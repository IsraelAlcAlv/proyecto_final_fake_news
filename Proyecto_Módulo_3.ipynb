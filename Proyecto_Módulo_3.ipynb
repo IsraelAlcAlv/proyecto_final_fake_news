{
  "nbformat": 4,
  "nbformat_minor": 0,
  "metadata": {
    "colab": {
      "name": "Proyecto Módulo 3.ipynb",
      "provenance": [],
      "collapsed_sections": [],
      "toc_visible": true,
      "include_colab_link": true
    },
    "kernelspec": {
      "name": "python3",
      "display_name": "Python 3"
    },
    "language_info": {
      "name": "python"
    }
  },
  "cells": [
    {
      "cell_type": "markdown",
      "metadata": {
        "id": "view-in-github",
        "colab_type": "text"
      },
      "source": [
        "<a href=\"https://colab.research.google.com/github/IsraelAlcAlv/proyecto_final_fake_news/blob/master/Proyecto_M%C3%B3dulo_3.ipynb\" target=\"_parent\"><img src=\"https://colab.research.google.com/assets/colab-badge.svg\" alt=\"Open In Colab\"/></a>"
      ]
    },
    {
      "cell_type": "markdown",
      "metadata": {
        "id": "Kv73-zeZR25K"
      },
      "source": [
        "# **Fake News y su Impacto en la Sociedad** \n",
        "\n",
        "Las noticias falsas o inventadas (fake news) han marcado la historia de diferentes maneras. Algunos las pueden llegar a identificar fácilmente, pero a muchos otros les costará verificar su veracidad y las tomarán como ciertas. Esto representa un gran problema para la sociedad, ya que polariza y aísla a los diferentes grupos sociales dependiendo de sus gustos.\n",
        "\n",
        "\n",
        "Medios actuales, investigadores, instituciones y demás entidades  han desarrollado o propuesto diversas alternativas para la solución de las dichosas Fake News, van desde consejos para no ser víctima de alguna información falsa o inverosímil, hasta modelos matemáticos y computacionales más complejos para detectar y/o predecir la ocurrencia de una, entre estos últimos,  se han desarrollado diversos modelos de clasificación  usando Support Vector Machine (SVM) y Naive Bayes Classifier (NBC). También se utilizan la Regresión Logística (LR) y los modelos basados en Árboles de Decisiones.\n"
      ]
    },
    {
      "cell_type": "markdown",
      "metadata": {
        "id": "9bgM0vFkBXDP"
      },
      "source": [
        "## **Preguntas que queremos responder**\n",
        "\n",
        "\n",
        "\n"
      ]
    },
    {
      "cell_type": "markdown",
      "metadata": {
        "id": "DBlzaBe3CRoG"
      },
      "source": [
        "* ¿Cómo diferenciamos entre noticias falsas y noticias reales?\n",
        "* ¿Podemos predecir la aparición de estas noticias?\n",
        "* ¿Se presentan en alguna estacionalidad?\n",
        "* ¿Qué porcentaje de noticias falsas abundan hoy en día en los medios de comunicación?\n",
        "* ¿Qué lugar/es tiene mayor abundancia de estas noticias?\n",
        "* ¿Qué temas son los más comunes entre las noticias falsas?\n",
        "* ¿Qué impacto tiene en la sociedad?\n",
        "* ¿Qué porcentaje de la población toma las noticias falsas como reales?\n",
        "* ¿Qué medios de comunicación tienen mayor número de noticias falsas?"
      ]
    },
    {
      "cell_type": "markdown",
      "metadata": {
        "id": "uD3m3Wd3Y1sU"
      },
      "source": [
        "# **Análisis preliminar de los datos**\n",
        "\n",
        "Las noticias recolectadas en este dataset cubren el transcurso de fechas entre el 25/10/16 al 25/11/16\n",
        "\n",
        "En este dataset existen artículos con información verídica tanto como información engañosa mejor conocida como “fake news”\n",
        "\n",
        "Las noticias en este dataset provienen de una variedad de países como lo son USA, Canadá, Colombia, Rusia, Australia, Francia entre otros, sin embargo la gran mayoría son originarias del primero mencionado.\n",
        "\n",
        "Dado el periodo de tiempo tan específico de esta colección y el origen de estas noticias  podemos suponer que gran parte de las mismas giran en torno a un evento que popularizara el término “fake news” siendo este las elecciones de USA en 2016 y su resultado final con Donald Trump como el siguiente presidente electo para esta nación.\n"
      ]
    },
    {
      "cell_type": "markdown",
      "metadata": {
        "id": "b3U4h8nXM539"
      },
      "source": [
        "## **Importar datos**\n",
        "\n"
      ]
    },
    {
      "cell_type": "markdown",
      "metadata": {
        "id": "2ZFkS-2tsy3r"
      },
      "source": [
        "La base de datos se extrajo de Kaggle.\n",
        "\n",
        "Las noticias recolectadas en este dataset cubren el transcurso de fechas entre el 25/10/16 al 25/11/16.\n",
        "\n",
        "En este dataset existen artículos con información verídica tanto como información engañosa mejor conocida como “fake news”\n",
        "\n",
        "https://www.kaggle.com/fanbyprinciple/fake-news-dataset\n",
        "\n",
        "El dataset se encuentra en la siguiente carpeta:\n",
        "\n",
        "https://drive.google.com/drive/folders/1GN1Bt3Kr007xGoaIGesmvxqKQBainFEU?usp=sharing\n",
        "\n",
        "Agregando un acceso directo a nuestra unidad de drive podrá acceder directamente a los datos.\n",
        "\n",
        "df = pd.read_csv(\"/content/drive/MyDrive/FakeNews/fake_news_dataset.csv\")"
      ]
    },
    {
      "cell_type": "code",
      "metadata": {
        "id": "UC-thqnlbLuC"
      },
      "source": [
        "from google.colab import drive\n",
        "drive.mount('/content/drive')"
      ],
      "execution_count": null,
      "outputs": []
    },
    {
      "cell_type": "markdown",
      "metadata": {
        "id": "FBlpcvle-Qpz"
      },
      "source": [
        "## **Descarga del DataSet**\n",
        "\n",
        "Con la librería **pandas** y la función **read_csv** es posible descargar la base de datos para trabajar."
      ]
    },
    {
      "cell_type": "markdown",
      "metadata": {
        "id": "qzFvYMchYmJg"
      },
      "source": [
        "Importamos la librería **pandas**, una librería de Python especializada en el manejo y análisis de estructuras de datos.\n",
        "\n",
        "Para leer un archivo .csv en pandas, usamos **read_csv**"
      ]
    },
    {
      "cell_type": "code",
      "metadata": {
        "id": "wF5xGkR7NCpT"
      },
      "source": [
        "# Descargando dataset\n",
        "import pandas as pd\n",
        "df = pd.read_csv(\"/content/drive/MyDrive/4_BEDU/Data Science/Python/fake_news_dataset.csv\")"
      ],
      "execution_count": null,
      "outputs": []
    },
    {
      "cell_type": "markdown",
      "metadata": {
        "id": "m3ABsgRH86ZS"
      },
      "source": [
        "Con **head** vemos los nombres de las columnas y un número determinado de filas:"
      ]
    },
    {
      "cell_type": "code",
      "metadata": {
        "id": "gqNL-hYCvzng",
        "colab": {
          "base_uri": "https://localhost:8080/",
          "height": 588
        },
        "outputId": "831a7c5e-670c-4da6-f695-39a04db5fb8e"
      },
      "source": [
        "# Primer vistazo a la información\n",
        "df.head()"
      ],
      "execution_count": null,
      "outputs": [
        {
          "output_type": "execute_result",
          "data": {
            "text/html": [
              "<div>\n",
              "<style scoped>\n",
              "    .dataframe tbody tr th:only-of-type {\n",
              "        vertical-align: middle;\n",
              "    }\n",
              "\n",
              "    .dataframe tbody tr th {\n",
              "        vertical-align: top;\n",
              "    }\n",
              "\n",
              "    .dataframe thead th {\n",
              "        text-align: right;\n",
              "    }\n",
              "</style>\n",
              "<table border=\"1\" class=\"dataframe\">\n",
              "  <thead>\n",
              "    <tr style=\"text-align: right;\">\n",
              "      <th></th>\n",
              "      <th>uuid</th>\n",
              "      <th>ord_in_thread</th>\n",
              "      <th>author</th>\n",
              "      <th>published</th>\n",
              "      <th>title</th>\n",
              "      <th>text</th>\n",
              "      <th>language</th>\n",
              "      <th>crawled</th>\n",
              "      <th>site_url</th>\n",
              "      <th>country</th>\n",
              "      <th>domain_rank</th>\n",
              "      <th>thread_title</th>\n",
              "      <th>spam_score</th>\n",
              "      <th>main_img_url</th>\n",
              "      <th>replies_count</th>\n",
              "      <th>participants_count</th>\n",
              "      <th>likes</th>\n",
              "      <th>comments</th>\n",
              "      <th>shares</th>\n",
              "      <th>type</th>\n",
              "    </tr>\n",
              "  </thead>\n",
              "  <tbody>\n",
              "    <tr>\n",
              "      <th>0</th>\n",
              "      <td>6a175f46bcd24d39b3e962ad0f29936721db70db</td>\n",
              "      <td>0</td>\n",
              "      <td>Barracuda Brigade</td>\n",
              "      <td>2016-10-26T21:41:00.000+03:00</td>\n",
              "      <td>Muslims BUSTED: They Stole Millions In Gov’t B...</td>\n",
              "      <td>Print They should pay all the back all the mon...</td>\n",
              "      <td>english</td>\n",
              "      <td>2016-10-27T01:49:27.168+03:00</td>\n",
              "      <td>100percentfedup.com</td>\n",
              "      <td>US</td>\n",
              "      <td>25689.0</td>\n",
              "      <td>Muslims BUSTED: They Stole Millions In Gov’t B...</td>\n",
              "      <td>0.000</td>\n",
              "      <td>http://bb4sp.com/wp-content/uploads/2016/10/Fu...</td>\n",
              "      <td>0</td>\n",
              "      <td>1</td>\n",
              "      <td>0</td>\n",
              "      <td>0</td>\n",
              "      <td>0</td>\n",
              "      <td>bias</td>\n",
              "    </tr>\n",
              "    <tr>\n",
              "      <th>1</th>\n",
              "      <td>2bdc29d12605ef9cf3f09f9875040a7113be5d5b</td>\n",
              "      <td>0</td>\n",
              "      <td>reasoning with facts</td>\n",
              "      <td>2016-10-29T08:47:11.259+03:00</td>\n",
              "      <td>Re: Why Did Attorney General Loretta Lynch Ple...</td>\n",
              "      <td>Why Did Attorney General Loretta Lynch Plead T...</td>\n",
              "      <td>english</td>\n",
              "      <td>2016-10-29T08:47:11.259+03:00</td>\n",
              "      <td>100percentfedup.com</td>\n",
              "      <td>US</td>\n",
              "      <td>25689.0</td>\n",
              "      <td>Re: Why Did Attorney General Loretta Lynch Ple...</td>\n",
              "      <td>0.000</td>\n",
              "      <td>http://bb4sp.com/wp-content/uploads/2016/10/Fu...</td>\n",
              "      <td>0</td>\n",
              "      <td>1</td>\n",
              "      <td>0</td>\n",
              "      <td>0</td>\n",
              "      <td>0</td>\n",
              "      <td>bias</td>\n",
              "    </tr>\n",
              "    <tr>\n",
              "      <th>2</th>\n",
              "      <td>c70e149fdd53de5e61c29281100b9de0ed268bc3</td>\n",
              "      <td>0</td>\n",
              "      <td>Barracuda Brigade</td>\n",
              "      <td>2016-10-31T01:41:49.479+02:00</td>\n",
              "      <td>BREAKING: Weiner Cooperating With FBI On Hilla...</td>\n",
              "      <td>Red State : \\nFox News Sunday reported this mo...</td>\n",
              "      <td>english</td>\n",
              "      <td>2016-10-31T01:41:49.479+02:00</td>\n",
              "      <td>100percentfedup.com</td>\n",
              "      <td>US</td>\n",
              "      <td>25689.0</td>\n",
              "      <td>BREAKING: Weiner Cooperating With FBI On Hilla...</td>\n",
              "      <td>0.000</td>\n",
              "      <td>http://bb4sp.com/wp-content/uploads/2016/10/Fu...</td>\n",
              "      <td>0</td>\n",
              "      <td>1</td>\n",
              "      <td>0</td>\n",
              "      <td>0</td>\n",
              "      <td>0</td>\n",
              "      <td>bias</td>\n",
              "    </tr>\n",
              "    <tr>\n",
              "      <th>3</th>\n",
              "      <td>7cf7c15731ac2a116dd7f629bd57ea468ed70284</td>\n",
              "      <td>0</td>\n",
              "      <td>Fed Up</td>\n",
              "      <td>2016-11-01T05:22:00.000+02:00</td>\n",
              "      <td>PIN DROP SPEECH BY FATHER OF DAUGHTER Kidnappe...</td>\n",
              "      <td>Email Kayla Mueller was a prisoner and torture...</td>\n",
              "      <td>english</td>\n",
              "      <td>2016-11-01T15:46:26.304+02:00</td>\n",
              "      <td>100percentfedup.com</td>\n",
              "      <td>US</td>\n",
              "      <td>25689.0</td>\n",
              "      <td>PIN DROP SPEECH BY FATHER OF DAUGHTER Kidnappe...</td>\n",
              "      <td>0.068</td>\n",
              "      <td>http://100percentfedup.com/wp-content/uploads/...</td>\n",
              "      <td>0</td>\n",
              "      <td>0</td>\n",
              "      <td>0</td>\n",
              "      <td>0</td>\n",
              "      <td>0</td>\n",
              "      <td>bias</td>\n",
              "    </tr>\n",
              "    <tr>\n",
              "      <th>4</th>\n",
              "      <td>0206b54719c7e241ffe0ad4315b808290dbe6c0f</td>\n",
              "      <td>0</td>\n",
              "      <td>Fed Up</td>\n",
              "      <td>2016-11-01T21:56:00.000+02:00</td>\n",
              "      <td>FANTASTIC! TRUMP'S 7 POINT PLAN To Reform Heal...</td>\n",
              "      <td>Email HEALTHCARE REFORM TO MAKE AMERICA GREAT ...</td>\n",
              "      <td>english</td>\n",
              "      <td>2016-11-01T23:59:42.266+02:00</td>\n",
              "      <td>100percentfedup.com</td>\n",
              "      <td>US</td>\n",
              "      <td>25689.0</td>\n",
              "      <td>FANTASTIC! TRUMP'S 7 POINT PLAN To Reform Heal...</td>\n",
              "      <td>0.865</td>\n",
              "      <td>http://100percentfedup.com/wp-content/uploads/...</td>\n",
              "      <td>0</td>\n",
              "      <td>0</td>\n",
              "      <td>0</td>\n",
              "      <td>0</td>\n",
              "      <td>0</td>\n",
              "      <td>bias</td>\n",
              "    </tr>\n",
              "  </tbody>\n",
              "</table>\n",
              "</div>"
            ],
            "text/plain": [
              "                                       uuid  ord_in_thread  ... shares  type\n",
              "0  6a175f46bcd24d39b3e962ad0f29936721db70db              0  ...      0  bias\n",
              "1  2bdc29d12605ef9cf3f09f9875040a7113be5d5b              0  ...      0  bias\n",
              "2  c70e149fdd53de5e61c29281100b9de0ed268bc3              0  ...      0  bias\n",
              "3  7cf7c15731ac2a116dd7f629bd57ea468ed70284              0  ...      0  bias\n",
              "4  0206b54719c7e241ffe0ad4315b808290dbe6c0f              0  ...      0  bias\n",
              "\n",
              "[5 rows x 20 columns]"
            ]
          },
          "metadata": {
            "tags": []
          },
          "execution_count": 4
        }
      ]
    },
    {
      "cell_type": "markdown",
      "metadata": {
        "id": "UA5SQ0Hf88yq"
      },
      "source": [
        "Para conocer más información sobre las columnas se usa **info**.\n",
        "\n",
        "Información general de todas las columnas, aquí podremos ver si los tipos correspondientes a cada columna son válidos para continuar o si requieren modificación, además del nombre de cada columna y el total de registros."
      ]
    },
    {
      "cell_type": "code",
      "metadata": {
        "id": "V211X43Mv8zm",
        "colab": {
          "base_uri": "https://localhost:8080/"
        },
        "outputId": "2d030d28-47e0-4849-a752-81036598d673"
      },
      "source": [
        " df.info()"
      ],
      "execution_count": null,
      "outputs": [
        {
          "output_type": "stream",
          "text": [
            "<class 'pandas.core.frame.DataFrame'>\n",
            "RangeIndex: 12999 entries, 0 to 12998\n",
            "Data columns (total 20 columns):\n",
            " #   Column              Non-Null Count  Dtype  \n",
            "---  ------              --------------  -----  \n",
            " 0   uuid                12999 non-null  object \n",
            " 1   ord_in_thread       12999 non-null  int64  \n",
            " 2   author              10575 non-null  object \n",
            " 3   published           12999 non-null  object \n",
            " 4   title               12319 non-null  object \n",
            " 5   text                12953 non-null  object \n",
            " 6   language            12999 non-null  object \n",
            " 7   crawled             12999 non-null  object \n",
            " 8   site_url            12999 non-null  object \n",
            " 9   country             12823 non-null  object \n",
            " 10  domain_rank         8776 non-null   float64\n",
            " 11  thread_title        12987 non-null  object \n",
            " 12  spam_score          12999 non-null  float64\n",
            " 13  main_img_url        9356 non-null   object \n",
            " 14  replies_count       12999 non-null  int64  \n",
            " 15  participants_count  12999 non-null  int64  \n",
            " 16  likes               12999 non-null  int64  \n",
            " 17  comments            12999 non-null  int64  \n",
            " 18  shares              12999 non-null  int64  \n",
            " 19  type                12999 non-null  object \n",
            "dtypes: float64(2), int64(6), object(12)\n",
            "memory usage: 2.0+ MB\n"
          ],
          "name": "stdout"
        }
      ]
    },
    {
      "cell_type": "markdown",
      "metadata": {
        "id": "K5w5sLaXZYou"
      },
      "source": [
        "## **Descripción general de las columnas**\n",
        "\n",
        "Las noticias son extraídas de Twitter y se clasifican según el hilo donde se publicaron, título, autor, lenguaje, país y la interacción que tuvo ese tweet (likes, comentarios, shares) y una columna muy importante, type. Esta nos brinda información valiosa sobre la naturaleza de la noticia, específicamente podemos extraer de aquí las Fake News. Ya que no existe una descripción detallada de las columnas nosotros concluimos que:\n",
        "\n",
        "\n",
        "*   uuid se usa como identificador único para cada noticia.\n",
        "*   ord_in_thread como el orden en el hilo en el cual aparece la noticia.\n",
        "*   site_url como la url del portal de origen de la noticia.\n",
        "*   thread_title como el título del hilo.\n",
        "*   crawled, domain_rank, spam_score, main_img_url al no tener una descripción *   intuitiva decidimos no utilizarlas.\n",
        "*   Las demás columnas en sí mismas se explican y se sobreentiende su uso.\n",
        "\n",
        "\n",
        "\n",
        "Datos como replies_count, participants_count, likes, comments y shares nos pueden dar un gran indicativo de que noticias fueron las que causaron más impacto en esta fechas y nos dan la capacidad para inferir de cierta manera sobre las noticias."
      ]
    },
    {
      "cell_type": "markdown",
      "metadata": {
        "id": "DTL7DlpS9P6w"
      },
      "source": [
        "## **Limpieza de datos**\n",
        "\n",
        "De la base de datos seleccionamos las columnas que nos dan información relevante para el caso de estudio"
      ]
    },
    {
      "cell_type": "code",
      "metadata": {
        "id": "2lDqsGzVDdLJ",
        "colab": {
          "base_uri": "https://localhost:8080/"
        },
        "outputId": "24ea0efd-85ce-4366-e52a-eba8ac748556"
      },
      "source": [
        "# Selección de columnas significantes\n",
        "columns = [\"author\",\"published\",\"title\",\"text\",\"language\",\"country\",\"replies_count\",\"participants_count\",\"likes\",\"comments\",\"shares\",\"type\"]\n",
        "clean_df = df[columns]\n",
        "print(clean_df.head())\n",
        "clean_df.shape"
      ],
      "execution_count": null,
      "outputs": [
        {
          "output_type": "stream",
          "text": [
            "                 author                      published  ... shares  type\n",
            "0     Barracuda Brigade  2016-10-26T21:41:00.000+03:00  ...      0  bias\n",
            "1  reasoning with facts  2016-10-29T08:47:11.259+03:00  ...      0  bias\n",
            "2     Barracuda Brigade  2016-10-31T01:41:49.479+02:00  ...      0  bias\n",
            "3                Fed Up  2016-11-01T05:22:00.000+02:00  ...      0  bias\n",
            "4                Fed Up  2016-11-01T21:56:00.000+02:00  ...      0  bias\n",
            "\n",
            "[5 rows x 12 columns]\n"
          ],
          "name": "stdout"
        },
        {
          "output_type": "execute_result",
          "data": {
            "text/plain": [
              "(12999, 12)"
            ]
          },
          "metadata": {
            "tags": []
          },
          "execution_count": 6
        }
      ]
    },
    {
      "cell_type": "markdown",
      "metadata": {
        "id": "RySYqEDu9Ub6"
      },
      "source": [
        "### **NaNs**\n",
        "\n",
        "Se usa la función vectorizada  isna para contar los NaNs (regresa True cuando encuentra un NaN y False cuando el valor es válido).\n",
        "\n",
        "Con sum podemos contar cuántos NaNs existen, que suma 1 por cada True y 0 por cada False:"
      ]
    },
    {
      "cell_type": "code",
      "metadata": {
        "id": "rbzv9rvqEwEd",
        "colab": {
          "base_uri": "https://localhost:8080/"
        },
        "outputId": "5418d5d0-9dc5-4a9b-8e26-6dcb1a79634f"
      },
      "source": [
        "#hacemos un conteo preliminar para conocer el numero de na existentes por columna\n",
        "clean_df.isna().sum()"
      ],
      "execution_count": null,
      "outputs": [
        {
          "output_type": "execute_result",
          "data": {
            "text/plain": [
              "author                2424\n",
              "published                0\n",
              "title                  680\n",
              "text                    46\n",
              "language                 0\n",
              "country                176\n",
              "replies_count            0\n",
              "participants_count       0\n",
              "likes                    0\n",
              "comments                 0\n",
              "shares                   0\n",
              "type                     0\n",
              "dtype: int64"
            ]
          },
          "metadata": {
            "tags": []
          },
          "execution_count": 7
        }
      ]
    },
    {
      "cell_type": "markdown",
      "metadata": {
        "id": "hSGVXtFp9YIk"
      },
      "source": [
        "### **Eliminar NaNs**\n",
        "\n",
        "Observamos que la cantidad de NaNs no es tan grande, por la que podemos eliminarnos sin problema alguno. Con dropna se hace la limpieza de NaNs y nos quedan datos completamente útiles para nuestro análisis."
      ]
    },
    {
      "cell_type": "code",
      "metadata": {
        "id": "J1Z7Q6rpE_l4",
        "colab": {
          "base_uri": "https://localhost:8080/"
        },
        "outputId": "904c61d4-b368-4cb0-cdbe-3ddac33c64a0"
      },
      "source": [
        "#eliminamos los na y comprobamos que no quede ninguno\n",
        "no_na_df = clean_df.dropna()\n",
        "print(no_na_df.isna().sum())\n",
        "print(no_na_df.shape)"
      ],
      "execution_count": null,
      "outputs": [
        {
          "output_type": "stream",
          "text": [
            "author                0\n",
            "published             0\n",
            "title                 0\n",
            "text                  0\n",
            "language              0\n",
            "country               0\n",
            "replies_count         0\n",
            "participants_count    0\n",
            "likes                 0\n",
            "comments              0\n",
            "shares                0\n",
            "type                  0\n",
            "dtype: int64\n",
            "(9809, 12)\n"
          ],
          "name": "stdout"
        }
      ]
    },
    {
      "cell_type": "markdown",
      "metadata": {
        "id": "mexNxKSX9ehU"
      },
      "source": [
        "### **Reindexando**\n",
        "\n",
        "Una vez limpio nuestro dataset debemos de reindexar nuestros registros para conservar un buen orden de nuestros datos. Esto lo logramos con reset_index utilizando el parámetro de drop igualado a True para quedarnos con los nuevos indices y deshacernos de los indices anteriores.\n"
      ]
    },
    {
      "cell_type": "code",
      "metadata": {
        "id": "LP4cGsPKh8ip"
      },
      "source": [
        "no_na_df = no_na_df.reset_index(drop=True)"
      ],
      "execution_count": null,
      "outputs": []
    },
    {
      "cell_type": "markdown",
      "metadata": {
        "id": "H3OrYVON9jQL"
      },
      "source": [
        "Usando **info** y **tail** para revisar la nueva base de datos sin NaNs"
      ]
    },
    {
      "cell_type": "code",
      "metadata": {
        "id": "25zw6o5mdhqY",
        "colab": {
          "base_uri": "https://localhost:8080/",
          "height": 960
        },
        "outputId": "22753abe-12f4-4682-8730-3376314f7316"
      },
      "source": [
        "no_na_df.info()\n",
        "no_na_df.tail()"
      ],
      "execution_count": null,
      "outputs": [
        {
          "output_type": "stream",
          "text": [
            "<class 'pandas.core.frame.DataFrame'>\n",
            "RangeIndex: 9809 entries, 0 to 9808\n",
            "Data columns (total 12 columns):\n",
            " #   Column              Non-Null Count  Dtype \n",
            "---  ------              --------------  ----- \n",
            " 0   author              9809 non-null   object\n",
            " 1   published           9809 non-null   object\n",
            " 2   title               9809 non-null   object\n",
            " 3   text                9809 non-null   object\n",
            " 4   language            9809 non-null   object\n",
            " 5   country             9809 non-null   object\n",
            " 6   replies_count       9809 non-null   int64 \n",
            " 7   participants_count  9809 non-null   int64 \n",
            " 8   likes               9809 non-null   int64 \n",
            " 9   comments            9809 non-null   int64 \n",
            " 10  shares              9809 non-null   int64 \n",
            " 11  type                9809 non-null   object\n",
            "dtypes: int64(5), object(7)\n",
            "memory usage: 919.7+ KB\n"
          ],
          "name": "stdout"
        },
        {
          "output_type": "execute_result",
          "data": {
            "text/html": [
              "<div>\n",
              "<style scoped>\n",
              "    .dataframe tbody tr th:only-of-type {\n",
              "        vertical-align: middle;\n",
              "    }\n",
              "\n",
              "    .dataframe tbody tr th {\n",
              "        vertical-align: top;\n",
              "    }\n",
              "\n",
              "    .dataframe thead th {\n",
              "        text-align: right;\n",
              "    }\n",
              "</style>\n",
              "<table border=\"1\" class=\"dataframe\">\n",
              "  <thead>\n",
              "    <tr style=\"text-align: right;\">\n",
              "      <th></th>\n",
              "      <th>author</th>\n",
              "      <th>published</th>\n",
              "      <th>title</th>\n",
              "      <th>text</th>\n",
              "      <th>language</th>\n",
              "      <th>country</th>\n",
              "      <th>replies_count</th>\n",
              "      <th>participants_count</th>\n",
              "      <th>likes</th>\n",
              "      <th>comments</th>\n",
              "      <th>shares</th>\n",
              "      <th>type</th>\n",
              "    </tr>\n",
              "  </thead>\n",
              "  <tbody>\n",
              "    <tr>\n",
              "      <th>9804</th>\n",
              "      <td>Tyler Durden</td>\n",
              "      <td>2016-10-26T23:25:49.124+03:00</td>\n",
              "      <td>Stocks Pump'n'Dump As Crude Crumbles To 3-Week...</td>\n",
              "      <td>Kaiser Sousa Oct 26, 2016 4:07 PM \\nwhen i awo...</td>\n",
              "      <td>english</td>\n",
              "      <td>US</td>\n",
              "      <td>0</td>\n",
              "      <td>1</td>\n",
              "      <td>14</td>\n",
              "      <td>0</td>\n",
              "      <td>14</td>\n",
              "      <td>bs</td>\n",
              "    </tr>\n",
              "    <tr>\n",
              "      <th>9805</th>\n",
              "      <td>Tyler Durden</td>\n",
              "      <td>2016-10-26T23:53:43.161+03:00</td>\n",
              "      <td>Rules For Rulers (Or How The World Really Works)</td>\n",
              "      <td>The following video is a must watch, particula...</td>\n",
              "      <td>english</td>\n",
              "      <td>US</td>\n",
              "      <td>0</td>\n",
              "      <td>1</td>\n",
              "      <td>72</td>\n",
              "      <td>0</td>\n",
              "      <td>72</td>\n",
              "      <td>bs</td>\n",
              "    </tr>\n",
              "    <tr>\n",
              "      <th>9806</th>\n",
              "      <td>George Washington</td>\n",
              "      <td>2016-10-26T23:53:49.879+03:00</td>\n",
              "      <td>Fact Check: Trump Is Right that Clinton Might ...</td>\n",
              "      <td>She explains : \\nHillary Clinton wants to star...</td>\n",
              "      <td>english</td>\n",
              "      <td>US</td>\n",
              "      <td>0</td>\n",
              "      <td>1</td>\n",
              "      <td>333</td>\n",
              "      <td>0</td>\n",
              "      <td>333</td>\n",
              "      <td>bs</td>\n",
              "    </tr>\n",
              "    <tr>\n",
              "      <th>9807</th>\n",
              "      <td>Tyler Durden</td>\n",
              "      <td>2016-10-27T00:20:00.111+03:00</td>\n",
              "      <td>Caught On Tape: ISIS Destroys Iraqi Abrams Wit...</td>\n",
              "      <td>YHC-FTSE Oct 26, 2016 5:14 PM \\nWould have bee...</td>\n",
              "      <td>english</td>\n",
              "      <td>US</td>\n",
              "      <td>0</td>\n",
              "      <td>1</td>\n",
              "      <td>197</td>\n",
              "      <td>0</td>\n",
              "      <td>197</td>\n",
              "      <td>bs</td>\n",
              "    </tr>\n",
              "    <tr>\n",
              "      <th>9808</th>\n",
              "      <td>Tyler Durden</td>\n",
              "      <td>2016-10-27T00:35:58.174+03:00</td>\n",
              "      <td>ObamaCare Architect Admits \"The Law Is Working...</td>\n",
              "      <td>Oct 26, 2016 5:20 PM 0 \\nSubmitted by Joseph J...</td>\n",
              "      <td>english</td>\n",
              "      <td>US</td>\n",
              "      <td>0</td>\n",
              "      <td>1</td>\n",
              "      <td>714</td>\n",
              "      <td>0</td>\n",
              "      <td>714</td>\n",
              "      <td>bs</td>\n",
              "    </tr>\n",
              "  </tbody>\n",
              "</table>\n",
              "</div>"
            ],
            "text/plain": [
              "                 author                      published  ... shares type\n",
              "9804       Tyler Durden  2016-10-26T23:25:49.124+03:00  ...     14   bs\n",
              "9805       Tyler Durden  2016-10-26T23:53:43.161+03:00  ...     72   bs\n",
              "9806  George Washington  2016-10-26T23:53:49.879+03:00  ...    333   bs\n",
              "9807       Tyler Durden  2016-10-27T00:20:00.111+03:00  ...    197   bs\n",
              "9808       Tyler Durden  2016-10-27T00:35:58.174+03:00  ...    714   bs\n",
              "\n",
              "[5 rows x 12 columns]"
            ]
          },
          "metadata": {
            "tags": []
          },
          "execution_count": 10
        }
      ]
    },
    {
      "cell_type": "markdown",
      "metadata": {
        "id": "CYhz5MN16uwx"
      },
      "source": [
        "### **Cambio de tipo de datos**\n",
        "\n",
        "Ya limpio nuestro dataset y reindexado podemos enfocarnos en el tipo de dato. Observamos que la única columna que necesita un cambio de tipo es la columna de published, ya que esta contiene la fecha en la que la noticia fue publicada. El método pandas to_datetime ayuda a convertir un dato tipo string Date time en un objeto Date time para poder utilizarlo de forma correcta."
      ]
    },
    {
      "cell_type": "code",
      "metadata": {
        "id": "rCh33NLAhHoA",
        "colab": {
          "base_uri": "https://localhost:8080/"
        },
        "outputId": "a9bdf622-56ea-4223-dc51-453bb4ae084d"
      },
      "source": [
        "pd.to_datetime(no_na_df[\"published\"])"
      ],
      "execution_count": null,
      "outputs": [
        {
          "output_type": "execute_result",
          "data": {
            "text/plain": [
              "0              2016-10-26 21:41:00+03:00\n",
              "1       2016-10-29 08:47:11.259000+03:00\n",
              "2       2016-10-31 01:41:49.479000+02:00\n",
              "3              2016-11-01 05:22:00+02:00\n",
              "4              2016-11-01 21:56:00+02:00\n",
              "                      ...               \n",
              "9804    2016-10-26 23:25:49.124000+03:00\n",
              "9805    2016-10-26 23:53:43.161000+03:00\n",
              "9806    2016-10-26 23:53:49.879000+03:00\n",
              "9807    2016-10-27 00:20:00.111000+03:00\n",
              "9808    2016-10-27 00:35:58.174000+03:00\n",
              "Name: published, Length: 9809, dtype: object"
            ]
          },
          "metadata": {
            "tags": []
          },
          "execution_count": 11
        }
      ]
    },
    {
      "cell_type": "markdown",
      "metadata": {
        "id": "_S345hzQa-dV"
      },
      "source": [
        "Una vez terminado todo este proceso de limpieza tenemos un dataset completamente funcional y listo para usarse."
      ]
    },
    {
      "cell_type": "markdown",
      "metadata": {
        "id": "Azq4umMEdnE5"
      },
      "source": [
        "# **Filtrando la información, obteniendo subdataframes y ordenando**\n",
        "\n",
        "Para empezar a constestar algunas de las preguntas iniciales debemos realizar filtros.\n",
        "\n",
        "\n",
        "\n",
        "\n",
        "\n"
      ]
    },
    {
      "cell_type": "markdown",
      "metadata": {
        "id": "usOsP4403FHQ"
      },
      "source": [
        "## ***-¿Cómo diferenciamos entre noticias falsas y noticias reales?***\n",
        "\n",
        "Afortunadamente nuestro dataset contiene una columna dedicada a que tipo de noticia es la que estamos observando, asi que lo ideal será investigar que valores tiene esta por medio de ***unique***"
      ]
    },
    {
      "cell_type": "code",
      "metadata": {
        "id": "X1q-ZDau3RYK"
      },
      "source": [
        "no_na_df['type'].unique()  #['bias', 'conspiracy', 'fake', 'bs', 'hate', 'junksci', 'state']"
      ],
      "execution_count": null,
      "outputs": []
    },
    {
      "cell_type": "markdown",
      "metadata": {
        "id": "P_vl7WGB4uI7"
      },
      "source": [
        "el resultado es un array donde podemos encontrar el valor \"fake\".\n",
        "Esta es una gran ayuda para clasificar nuestra información entre que noticias son reales y cuales no, tomando como reales todos los demas valores del array.\n",
        "\n",
        "Incluso, podemos obtener un subdataframe que contenga solo noticias fake y contar sus registros."
      ]
    },
    {
      "cell_type": "code",
      "metadata": {
        "id": "5rJPimt_4AgP"
      },
      "source": [
        "fake_df = no_na_df[(no_na_df.type.str.contains(\"fake\"))] #nuevo subdf\n",
        "print(fake_df)\n",
        "\n",
        "fake_df.shape #(14, 12) <- 14 filas, 12 columnas"
      ],
      "execution_count": null,
      "outputs": []
    },
    {
      "cell_type": "markdown",
      "metadata": {
        "id": "3j1WDjmD7L2W"
      },
      "source": [
        "De forma inesperada, el numero de noticias clasificadas como \"fake\" son solo 14 de 9809 registros.\n",
        "\n",
        "Si bien este dataset nos brinda una forma muy sencilla de identificar que es considerado como fake news y que no, no siempre es asi y se requiere de análisis profundos y exhaustivos, en conjunto de otras tecnologias como la que se hablará a continuación. "
      ]
    },
    {
      "cell_type": "markdown",
      "metadata": {
        "id": "wWiexx788wSV"
      },
      "source": [
        "## ***-¿Podemos predecir la aparición de estas noticias?***\n",
        "\n",
        "En esta primera etapa del proyecto, no.\n",
        "\n",
        "Sin embargo, en un futuro, basandonos en la información obtenida a partir de este dataset y con la ayuda de AI, podriamos analizar el texto, la procedencia, las palabras que usan, contextos políticos, fechas, entre otros. Toda esta informacion serviría para alimentar la AI y poder dar una respuesta a esta pregunta."
      ]
    },
    {
      "cell_type": "markdown",
      "metadata": {
        "id": "UfLRjM6R_r5Y"
      },
      "source": [
        "## ***-¿Qué porcentaje de noticias falsas abundan hoy en día en los medios de comunicación?***\n",
        "\n",
        "De nuevo, en esta etapa es imposible responder esta pregunta sin ayuda de AI, dicho lo anterior, podemos obtener el porcentaje para este dataframe y el periodo de tiempo que abarca."
      ]
    },
    {
      "cell_type": "code",
      "metadata": {
        "id": "xCxpJ1sn8ocL"
      },
      "source": [
        "prob_fake = (len(fake_df)/len(no_na_df)*100) #Con len contamos la cantidad de registros en cada df, dividimos fakes entre total y el resultado se multiplica x 100\n",
        "prob_fake #0.14272606789682946"
      ],
      "execution_count": null,
      "outputs": []
    },
    {
      "cell_type": "markdown",
      "metadata": {
        "id": "xSHJL999FJ3a"
      },
      "source": [
        "Dando como resultado un muy pequeño 0.14% de fake news dentro de este conjunto de información."
      ]
    },
    {
      "cell_type": "markdown",
      "metadata": {
        "id": "0HJxEJsWF97m"
      },
      "source": [
        "## ***¿Qué lugar/es tiene mayor abundancia de estas noticias?***\n",
        "\n",
        "Para obtener esta informacion aplicaremos una funcion de agregación (count) a nuestro fake_df, agrupando por país (groupby). "
      ]
    },
    {
      "cell_type": "code",
      "metadata": {
        "id": "SPyqD0neETVb"
      },
      "source": [
        "fake_df.groupby(\"country\")[\"title\"].count() \n",
        "\n",
        "# country\n",
        "#CO     1\n",
        "#US    13"
      ],
      "execution_count": null,
      "outputs": []
    },
    {
      "cell_type": "markdown",
      "metadata": {
        "id": "xLTrAJnMMUo8"
      },
      "source": [
        "De las 14 fake news tenemos 13 pertenecientes a USA.\n",
        "\n",
        "Esto, en conjunto con datos como el rango de fechas especificos de este dataset nos empieza a dar pequeños indicios de cual puede ser el tema principal, al menos de este subconjunto especifico de fake news."
      ]
    },
    {
      "cell_type": "markdown",
      "metadata": {
        "id": "0YKUOea9NrCb"
      },
      "source": [
        "## ***¿Qué temas son los más comunes entre las noticias falsas?***\n",
        "\n",
        "Dado que en este caso específico el subdataframe contiene muy pocos registros, basta con leer los titulos de forma manual, y encontramos un patron en casi todos los titulos, las elecciones de USA-2016"
      ]
    },
    {
      "cell_type": "code",
      "metadata": {
        "id": "jcMMal9c7KqX"
      },
      "source": [
        "fake_df['title'].unique() "
      ],
      "execution_count": null,
      "outputs": []
    },
    {
      "cell_type": "markdown",
      "metadata": {
        "id": "ukIzFUHlRzTv"
      },
      "source": [
        "Podemos hacer un conteo de las noticias que incluyen en su título algunos terminos relacionados a las elecciones.\n",
        "\n",
        "Esto usando la propiedad contains, especificando un case insensitive y regex para que busque los terminos en cualquier posicion de los strings correspondientes."
      ]
    },
    {
      "cell_type": "code",
      "metadata": {
        "id": "ZWgRzsBWSSd5"
      },
      "source": [
        "elections_fake_df = fake_df[fake_df['title'].str.contains('trump|campaing|clinton|white house|president|election', regex=True, na=False, case=False)]\n",
        "len(elections_fake_df) #9"
      ],
      "execution_count": null,
      "outputs": []
    },
    {
      "cell_type": "markdown",
      "metadata": {
        "id": "VjwRqIQbU8tH"
      },
      "source": [
        "De las 14 fake news donde 13 se originaron en USA, 9 son en relación a la campaña electoral 2016...mmm... parece que tenemos una tema principal claramente definido, al menos en este subdataset."
      ]
    },
    {
      "cell_type": "markdown",
      "metadata": {
        "id": "12oFgQ3x3SsG"
      },
      "source": [
        "## ***¿Qué más se puede hacer con esta información?, ¿Qué tal el impacto?***\n",
        "\n",
        "Debido a las fechas tan especificas de este dataset y análisis previo, se llegó a una suposición del tema principal y por tanto, con mayor impacto de estas noticias, siendo este el fin de la campaña electoral de Estados Unidos-2016 y la victoria de Trump como presidente electo, podemos comprobar esto con filtros.\n",
        "\n",
        "Filtrando esta información podemos obtener subdatasets importantes para continuar con el análisis a futuro como los son:\n",
        "\n",
        "> -Noticias con 500 shares o más (Cuando empiezan a ser relevantes para un mayor público)\n",
        "\n",
        "> -Noticias que involucran a Donald Trump\n",
        "\n",
        "> -Noticias que involucran a Donald Trump y tienen más de 500 shares"
      ]
    },
    {
      "cell_type": "markdown",
      "metadata": {
        "id": "CysaBNN5dEBc"
      },
      "source": [
        "## **Para encontrar las noticias con más de 500 shares.**\n",
        "\n",
        "Del DataFrame no_na_df se seleccionan la columna *shares* y sólo se toman las filas con más de 500 y se crea el DataFrame **impact_df**.\n",
        "\n",
        "Después con **sort** se ordenan por mayor cantidad de shares y respuestas.\n"
      ]
    },
    {
      "cell_type": "code",
      "metadata": {
        "id": "DLpr3v0EdjvQ"
      },
      "source": [
        "#Noticias con mas de 500 shares\n",
        "impact_df = no_na_df[(no_na_df.shares > 500)]\n",
        "\n",
        "impact_df.sort_values(by=['shares', 'replies_count'], ascending= False) #ordenando por mayor cantidad de shares y respuestas"
      ],
      "execution_count": null,
      "outputs": []
    },
    {
      "cell_type": "markdown",
      "metadata": {
        "id": "d169MYcwexru"
      },
      "source": [
        "## **Encontrando las noticias que hablen de \"Trump\"**\n",
        "\n",
        "Se seleccionan los datos de tipo string (texto) que coincidan con *Trump*\n",
        "\n",
        "Posteriormente se ordenan con **sort** por mayor cantidad de shares y comentarios\n",
        "\n",
        "Aqui lo que realmente queremos saber es el total de noticias por lo que usamos la propiedad shape"
      ]
    },
    {
      "cell_type": "code",
      "metadata": {
        "id": "MI5bywA7hz5R"
      },
      "source": [
        "#Noticias que contengan \"Trump\"\n",
        "trump_df = no_na_df[(no_na_df.text.str.contains(\"Trump\"))]\n",
        "\n",
        "trump_df.sort_values(by=['shares', 'replies_count'], ascending= False)\n",
        "\n",
        "trump_df.shape"
      ],
      "execution_count": null,
      "outputs": []
    },
    {
      "cell_type": "markdown",
      "metadata": {
        "id": "SaINt3FRg4M2"
      },
      "source": [
        "Con los dos filtros pasados ahora se realiza un filtrado de **noticias que involucran a Trump y tienen más de 500 shares.**\n",
        "\n",
        "\n",
        "\n",
        "\n",
        "\n"
      ]
    },
    {
      "cell_type": "code",
      "metadata": {
        "id": "ktP8UzCgiD8r"
      },
      "source": [
        "#Noticias que involucran a Trump y tienen más de 500 shares\n",
        "trump_imp_df = no_na_df[(no_na_df.text.str.contains(\"Trump\")) & (no_na_df.shares > 500)]\n",
        "\n",
        "trump_imp_df.sort_values(by=['shares', 'replies_count'], ascending= False)"
      ],
      "execution_count": null,
      "outputs": []
    },
    {
      "cell_type": "markdown",
      "metadata": {
        "id": "s8f4rxWdK83X"
      },
      "source": [
        "# **Api The Guardian**"
      ]
    },
    {
      "cell_type": "markdown",
      "metadata": {
        "id": "bQX7HMLdNpJE"
      },
      "source": [
        "Se realizaron peticiones a una api **The Guardian**, un sitio  de noticias y medios, la api almacena todos los artículos, imágenes, audio y videos que datan de 1999. Todo accesible con una sola clave de plataforma abierta."
      ]
    },
    {
      "cell_type": "markdown",
      "metadata": {
        "id": "7QOVLWXUOQCw"
      },
      "source": [
        "Para obtener la documentación https://open-platform.theguardian.com/access/"
      ]
    },
    {
      "cell_type": "markdown",
      "metadata": {
        "id": "TG7DihlQOxvF"
      },
      "source": [
        "Primero se necesita el endpoint y diccionario, después se pasan al **método GET de requests** y se realiza la petición a ese endpoint, seguido envía los parámetros, por ejemplo, la información extra que el API necesita para validar la petición:"
      ]
    },
    {
      "cell_type": "code",
      "metadata": {
        "id": "Q_AffwkKK73N"
      },
      "source": [
        "import requests\n",
        "payload = {'api_key' : '4bdcba55-8588-4ec7-b5b9-4ed50fc42aab'}\n",
        "\n",
        "endpoint = \"https://content.guardianapis.com/search?q=Hillary%20AND%20Trump&api-key=4bdcba55-8588-4ec7-b5b9-4ed50fc42aab\"\n",
        "r = requests.get(endpoint, params=payload)\n"
      ],
      "execution_count": null,
      "outputs": []
    },
    {
      "cell_type": "markdown",
      "metadata": {
        "id": "k_ojVbGJOqAO"
      },
      "source": [
        "Posteriormente, nuestro objeto de respuesta da el siguiente resultado:"
      ]
    },
    {
      "cell_type": "code",
      "metadata": {
        "colab": {
          "base_uri": "https://localhost:8080/"
        },
        "id": "iC-7Ek_QMRMu",
        "outputId": "40ffedfe-6bfe-4a90-9a3f-957a56439125"
      },
      "source": [
        "r.status_code"
      ],
      "execution_count": null,
      "outputs": [
        {
          "output_type": "execute_result",
          "data": {
            "text/plain": [
              "200"
            ]
          },
          "metadata": {
            "tags": []
          },
          "execution_count": 45
        }
      ]
    },
    {
      "cell_type": "markdown",
      "metadata": {
        "id": "fs84hOEP3VPQ"
      },
      "source": [
        "El valor  de **200** indica que todo salió bien con la petición."
      ]
    },
    {
      "cell_type": "markdown",
      "metadata": {
        "id": "rU_vOi_5Pk5q"
      },
      "source": [
        "Como es una respuesta larga se necesita diseccionarla:"
      ]
    },
    {
      "cell_type": "code",
      "metadata": {
        "colab": {
          "base_uri": "https://localhost:8080/"
        },
        "id": "s5RUIwgMMj3y",
        "outputId": "6e3d017a-682e-4707-dd0d-0a557ac7a02d"
      },
      "source": [
        "r.json()\n"
      ],
      "execution_count": null,
      "outputs": [
        {
          "output_type": "execute_result",
          "data": {
            "text/plain": [
              "{'response': {'currentPage': 1,\n",
              "  'orderBy': 'relevance',\n",
              "  'pageSize': 10,\n",
              "  'pages': 839,\n",
              "  'results': [{'apiUrl': 'https://content.guardianapis.com/us-news/2021/mar/07/lucky-review-how-biden-beat-trump-and-doubters-like-obama-and-hillary',\n",
              "    'id': 'us-news/2021/mar/07/lucky-review-how-biden-beat-trump-and-doubters-like-obama-and-hillary',\n",
              "    'isHosted': False,\n",
              "    'pillarId': 'pillar/news',\n",
              "    'pillarName': 'News',\n",
              "    'sectionId': 'us-news',\n",
              "    'sectionName': 'US news',\n",
              "    'type': 'article',\n",
              "    'webPublicationDate': '2021-03-07T06:00:55Z',\n",
              "    'webTitle': 'Lucky review: how Biden beat Trump – and doubters like Obama and Hillary',\n",
              "    'webUrl': 'https://www.theguardian.com/us-news/2021/mar/07/lucky-review-how-biden-beat-trump-and-doubters-like-obama-and-hillary'},\n",
              "   {'apiUrl': 'https://content.guardianapis.com/us-news/2021/jun/08/trump-biden-democrats-hillary-clinton-michelle-obama-2020-election-book',\n",
              "    'id': 'us-news/2021/jun/08/trump-biden-democrats-hillary-clinton-michelle-obama-2020-election-book',\n",
              "    'isHosted': False,\n",
              "    'pillarId': 'pillar/news',\n",
              "    'pillarName': 'News',\n",
              "    'sectionId': 'us-news',\n",
              "    'sectionName': 'US news',\n",
              "    'type': 'article',\n",
              "    'webPublicationDate': '2021-06-08T11:43:04Z',\n",
              "    'webTitle': 'Trump feared Democrats would replace Biden with Michelle Obama, book claims',\n",
              "    'webUrl': 'https://www.theguardian.com/us-news/2021/jun/08/trump-biden-democrats-hillary-clinton-michelle-obama-2020-election-book'},\n",
              "   {'apiUrl': 'https://content.guardianapis.com/us-news/2021/may/06/hillary-clinton-guardian-disinformation-big-tech-facebook',\n",
              "    'id': 'us-news/2021/may/06/hillary-clinton-guardian-disinformation-big-tech-facebook',\n",
              "    'isHosted': False,\n",
              "    'pillarId': 'pillar/news',\n",
              "    'pillarName': 'News',\n",
              "    'sectionId': 'us-news',\n",
              "    'sectionName': 'US news',\n",
              "    'type': 'article',\n",
              "    'webPublicationDate': '2021-05-06T06:00:37Z',\n",
              "    'webTitle': 'Hillary Clinton: ‘There has to be a global reckoning with disinformation’',\n",
              "    'webUrl': 'https://www.theguardian.com/us-news/2021/may/06/hillary-clinton-guardian-disinformation-big-tech-facebook'},\n",
              "   {'apiUrl': 'https://content.guardianapis.com/us-news/2021/aug/01/ohio-cleveland-primary-democratic-party-nina-turner-shontel-brown',\n",
              "    'id': 'us-news/2021/aug/01/ohio-cleveland-primary-democratic-party-nina-turner-shontel-brown',\n",
              "    'isHosted': False,\n",
              "    'pillarId': 'pillar/news',\n",
              "    'pillarName': 'News',\n",
              "    'sectionId': 'us-news',\n",
              "    'sectionName': 'US news',\n",
              "    'type': 'article',\n",
              "    'webPublicationDate': '2021-08-01T15:54:50Z',\n",
              "    'webTitle': 'Old Democratic hostilities suppressed in Trump era resurface in primary fight',\n",
              "    'webUrl': 'https://www.theguardian.com/us-news/2021/aug/01/ohio-cleveland-primary-democratic-party-nina-turner-shontel-brown'},\n",
              "   {'apiUrl': 'https://content.guardianapis.com/us-news/2021/aug/07/trump-run-president-2024-sean-spicer',\n",
              "    'id': 'us-news/2021/aug/07/trump-run-president-2024-sean-spicer',\n",
              "    'isHosted': False,\n",
              "    'pillarId': 'pillar/news',\n",
              "    'pillarName': 'News',\n",
              "    'sectionId': 'us-news',\n",
              "    'sectionName': 'US news',\n",
              "    'type': 'article',\n",
              "    'webPublicationDate': '2021-08-07T18:02:24Z',\n",
              "    'webTitle': 'Trump will run for president in 2024, Sean Spicer claims',\n",
              "    'webUrl': 'https://www.theguardian.com/us-news/2021/aug/07/trump-run-president-2024-sean-spicer'},\n",
              "   {'apiUrl': 'https://content.guardianapis.com/us-news/2021/jul/03/donald-trump-florida-rally-new-york-charges-allen-weisselberg',\n",
              "    'id': 'us-news/2021/jul/03/donald-trump-florida-rally-new-york-charges-allen-weisselberg',\n",
              "    'isHosted': False,\n",
              "    'pillarId': 'pillar/news',\n",
              "    'pillarName': 'News',\n",
              "    'sectionId': 'us-news',\n",
              "    'sectionName': 'US news',\n",
              "    'type': 'article',\n",
              "    'webPublicationDate': '2021-07-03T12:38:49Z',\n",
              "    'webTitle': 'Donald Trump stages Florida rally, decrying New York charges',\n",
              "    'webUrl': 'https://www.theguardian.com/us-news/2021/jul/03/donald-trump-florida-rally-new-york-charges-allen-weisselberg'},\n",
              "   {'apiUrl': 'https://content.guardianapis.com/books/2021/aug/08/reign-of-terror-review-from-911-to-trump-by-way-of-snowden-and-iraq',\n",
              "    'id': 'books/2021/aug/08/reign-of-terror-review-from-911-to-trump-by-way-of-snowden-and-iraq',\n",
              "    'isHosted': False,\n",
              "    'pillarId': 'pillar/arts',\n",
              "    'pillarName': 'Arts',\n",
              "    'sectionId': 'books',\n",
              "    'sectionName': 'Books',\n",
              "    'type': 'article',\n",
              "    'webPublicationDate': '2021-08-08T14:12:20Z',\n",
              "    'webTitle': 'Reign of Terror review: from 9/11 to Trump by way of Snowden and Iraq',\n",
              "    'webUrl': 'https://www.theguardian.com/books/2021/aug/08/reign-of-terror-review-from-911-to-trump-by-way-of-snowden-and-iraq'},\n",
              "   {'apiUrl': 'https://content.guardianapis.com/lifeandstyle/2021/may/03/how-we-met-when-hillary-clinton-lost-the-election-we-decided-to-leave-america',\n",
              "    'id': 'lifeandstyle/2021/may/03/how-we-met-when-hillary-clinton-lost-the-election-we-decided-to-leave-america',\n",
              "    'isHosted': False,\n",
              "    'pillarId': 'pillar/lifestyle',\n",
              "    'pillarName': 'Lifestyle',\n",
              "    'sectionId': 'lifeandstyle',\n",
              "    'sectionName': 'Life and style',\n",
              "    'type': 'article',\n",
              "    'webPublicationDate': '2021-05-03T09:00:57Z',\n",
              "    'webTitle': 'How we met: ‘When Hillary Clinton lost the election we decided to leave America’',\n",
              "    'webUrl': 'https://www.theguardian.com/lifeandstyle/2021/may/03/how-we-met-when-hillary-clinton-lost-the-election-we-decided-to-leave-america'},\n",
              "   {'apiUrl': 'https://content.guardianapis.com/us-news/2021/aug/09/trump-covid-coronavirus-mary-trump-book-the-reckoning',\n",
              "    'id': 'us-news/2021/aug/09/trump-covid-coronavirus-mary-trump-book-the-reckoning',\n",
              "    'isHosted': False,\n",
              "    'pillarId': 'pillar/news',\n",
              "    'pillarName': 'News',\n",
              "    'sectionId': 'us-news',\n",
              "    'sectionName': 'US news',\n",
              "    'type': 'article',\n",
              "    'webPublicationDate': '2021-08-10T05:00:10Z',\n",
              "    'webTitle': 'Trump was ‘in pain and afraid’ during post-Covid display of bravado, niece’s book says',\n",
              "    'webUrl': 'https://www.theguardian.com/us-news/2021/aug/09/trump-covid-coronavirus-mary-trump-book-the-reckoning'},\n",
              "   {'apiUrl': 'https://content.guardianapis.com/books/2021/jul/18/hatchet-man-review-bill-barr-trump-attorney-general-elie-honig',\n",
              "    'id': 'books/2021/jul/18/hatchet-man-review-bill-barr-trump-attorney-general-elie-honig',\n",
              "    'isHosted': False,\n",
              "    'pillarId': 'pillar/arts',\n",
              "    'pillarName': 'Arts',\n",
              "    'sectionId': 'books',\n",
              "    'sectionName': 'Books',\n",
              "    'type': 'article',\n",
              "    'webPublicationDate': '2021-07-18T06:00:22Z',\n",
              "    'webTitle': 'Hatchet Man review: Bill Barr as Trump loyalist – and fairly typical AG',\n",
              "    'webUrl': 'https://www.theguardian.com/books/2021/jul/18/hatchet-man-review-bill-barr-trump-attorney-general-elie-honig'}],\n",
              "  'startIndex': 1,\n",
              "  'status': 'ok',\n",
              "  'total': 8385,\n",
              "  'userTier': 'developer'}}"
            ]
          },
          "metadata": {
            "tags": []
          },
          "execution_count": 46
        }
      ]
    },
    {
      "cell_type": "code",
      "metadata": {
        "colab": {
          "base_uri": "https://localhost:8080/"
        },
        "id": "V7dLa-vNPD-O",
        "outputId": "787c9841-6ca8-4641-b283-dccbd6636575"
      },
      "source": [
        "json['response']['results']"
      ],
      "execution_count": null,
      "outputs": [
        {
          "output_type": "execute_result",
          "data": {
            "text/plain": [
              "[{'apiUrl': 'https://content.guardianapis.com/books/2021/feb/23/hillary-clinton-to-publish-thriller-set-in-aftermath-of-us-political-turmoil',\n",
              "  'id': 'books/2021/feb/23/hillary-clinton-to-publish-thriller-set-in-aftermath-of-us-political-turmoil',\n",
              "  'isHosted': False,\n",
              "  'pillarId': 'pillar/arts',\n",
              "  'pillarName': 'Arts',\n",
              "  'sectionId': 'books',\n",
              "  'sectionName': 'Books',\n",
              "  'type': 'article',\n",
              "  'webPublicationDate': '2021-02-23T13:12:12Z',\n",
              "  'webTitle': 'Hillary Clinton to publish thriller set in aftermath of US political turmoil',\n",
              "  'webUrl': 'https://www.theguardian.com/books/2021/feb/23/hillary-clinton-to-publish-thriller-set-in-aftermath-of-us-political-turmoil'},\n",
              " {'apiUrl': 'https://content.guardianapis.com/politics/2021/jun/16/keir-starmer-picks-stonger-together-slogan-used-by-hillary-clinton-to-rebrand',\n",
              "  'id': 'politics/2021/jun/16/keir-starmer-picks-stonger-together-slogan-used-by-hillary-clinton-to-rebrand',\n",
              "  'isHosted': False,\n",
              "  'pillarId': 'pillar/news',\n",
              "  'pillarName': 'News',\n",
              "  'sectionId': 'politics',\n",
              "  'sectionName': 'Politics',\n",
              "  'type': 'article',\n",
              "  'webPublicationDate': '2021-06-16T21:30:16Z',\n",
              "  'webTitle': 'Keir Starmer picks ‘Stronger Together’ slogan used by Hillary Clinton to rebrand',\n",
              "  'webUrl': 'https://www.theguardian.com/politics/2021/jun/16/keir-starmer-picks-stonger-together-slogan-used-by-hillary-clinton-to-rebrand'},\n",
              " {'apiUrl': 'https://content.guardianapis.com/us-news/live/2021/may/06/liz-cheney-republicans-trump-politics-live',\n",
              "  'id': 'us-news/live/2021/may/06/liz-cheney-republicans-trump-politics-live',\n",
              "  'isHosted': False,\n",
              "  'pillarId': 'pillar/news',\n",
              "  'pillarName': 'News',\n",
              "  'sectionId': 'us-news',\n",
              "  'sectionName': 'US news',\n",
              "  'type': 'liveblog',\n",
              "  'webPublicationDate': '2021-05-06T23:59:52Z',\n",
              "  'webTitle': 'Florida ‘moving in wrong direction’ with voting restrictions, White House says – as it happened',\n",
              "  'webUrl': 'https://www.theguardian.com/us-news/live/2021/may/06/liz-cheney-republicans-trump-politics-live'},\n",
              " {'apiUrl': 'https://content.guardianapis.com/us-news/2021/mar/07/lucky-review-how-biden-beat-trump-and-doubters-like-obama-and-hillary',\n",
              "  'id': 'us-news/2021/mar/07/lucky-review-how-biden-beat-trump-and-doubters-like-obama-and-hillary',\n",
              "  'isHosted': False,\n",
              "  'pillarId': 'pillar/news',\n",
              "  'pillarName': 'News',\n",
              "  'sectionId': 'us-news',\n",
              "  'sectionName': 'US news',\n",
              "  'type': 'article',\n",
              "  'webPublicationDate': '2021-03-07T06:00:55Z',\n",
              "  'webTitle': 'Lucky review: how Biden beat Trump – and doubters like Obama and Hillary',\n",
              "  'webUrl': 'https://www.theguardian.com/us-news/2021/mar/07/lucky-review-how-biden-beat-trump-and-doubters-like-obama-and-hillary'},\n",
              " {'apiUrl': 'https://content.guardianapis.com/books/2020/nov/28/best-politics-books-of-2020',\n",
              "  'id': 'books/2020/nov/28/best-politics-books-of-2020',\n",
              "  'isHosted': False,\n",
              "  'pillarId': 'pillar/arts',\n",
              "  'pillarName': 'Arts',\n",
              "  'sectionId': 'books',\n",
              "  'sectionName': 'Books',\n",
              "  'type': 'article',\n",
              "  'webPublicationDate': '2020-11-28T09:00:07Z',\n",
              "  'webTitle': 'Best politics books of 2020',\n",
              "  'webUrl': 'https://www.theguardian.com/books/2020/nov/28/best-politics-books-of-2020'},\n",
              " {'apiUrl': 'https://content.guardianapis.com/stage/2020/oct/26/the-narcissist-christopher-shinn-hillary-clinton-future-plays',\n",
              "  'id': 'stage/2020/oct/26/the-narcissist-christopher-shinn-hillary-clinton-future-plays',\n",
              "  'isHosted': False,\n",
              "  'pillarId': 'pillar/arts',\n",
              "  'pillarName': 'Arts',\n",
              "  'sectionId': 'stage',\n",
              "  'sectionName': 'Stage',\n",
              "  'type': 'article',\n",
              "  'webPublicationDate': '2020-10-26T12:00:19Z',\n",
              "  'webTitle': 'The strategist who could have put Hillary in power: Christopher Shinn on his play The Narcissist',\n",
              "  'webUrl': 'https://www.theguardian.com/stage/2020/oct/26/the-narcissist-christopher-shinn-hillary-clinton-future-plays'},\n",
              " {'apiUrl': 'https://content.guardianapis.com/us-news/2021/jun/08/trump-biden-democrats-hillary-clinton-michelle-obama-2020-election-book',\n",
              "  'id': 'us-news/2021/jun/08/trump-biden-democrats-hillary-clinton-michelle-obama-2020-election-book',\n",
              "  'isHosted': False,\n",
              "  'pillarId': 'pillar/news',\n",
              "  'pillarName': 'News',\n",
              "  'sectionId': 'us-news',\n",
              "  'sectionName': 'US news',\n",
              "  'type': 'article',\n",
              "  'webPublicationDate': '2021-06-08T11:43:04Z',\n",
              "  'webTitle': 'Trump feared Democrats would replace Biden with Michelle Obama, book claims',\n",
              "  'webUrl': 'https://www.theguardian.com/us-news/2021/jun/08/trump-biden-democrats-hillary-clinton-michelle-obama-2020-election-book'},\n",
              " {'apiUrl': 'https://content.guardianapis.com/us-news/2021/may/16/joe-biden-feels-political-ground-shift-as-israel-gaza-conflict-rages-on',\n",
              "  'id': 'us-news/2021/may/16/joe-biden-feels-political-ground-shift-as-israel-gaza-conflict-rages-on',\n",
              "  'isHosted': False,\n",
              "  'pillarId': 'pillar/news',\n",
              "  'pillarName': 'News',\n",
              "  'sectionId': 'us-news',\n",
              "  'sectionName': 'US news',\n",
              "  'type': 'article',\n",
              "  'webPublicationDate': '2021-05-16T16:36:38Z',\n",
              "  'webTitle': ' Joe Biden feels political ground shift as Israel-Gaza conflict rages on',\n",
              "  'webUrl': 'https://www.theguardian.com/us-news/2021/may/16/joe-biden-feels-political-ground-shift-as-israel-gaza-conflict-rages-on'},\n",
              " {'apiUrl': 'https://content.guardianapis.com/commentisfree/2021/feb/16/two-party-electoral-system-factions-voters',\n",
              "  'id': 'commentisfree/2021/feb/16/two-party-electoral-system-factions-voters',\n",
              "  'isHosted': False,\n",
              "  'pillarId': 'pillar/opinion',\n",
              "  'pillarName': 'Opinion',\n",
              "  'sectionId': 'commentisfree',\n",
              "  'sectionName': 'Opinion',\n",
              "  'type': 'article',\n",
              "  'webPublicationDate': '2021-02-16T07:00:44Z',\n",
              "  'webTitle': 'As events in the US have shown, two-party politics is no longer fit for purpose | Polly Toynbee',\n",
              "  'webUrl': 'https://www.theguardian.com/commentisfree/2021/feb/16/two-party-electoral-system-factions-voters'},\n",
              " {'apiUrl': 'https://content.guardianapis.com/commentisfree/2020/nov/08/american-politics-trump-broken-system',\n",
              "  'id': 'commentisfree/2020/nov/08/american-politics-trump-broken-system',\n",
              "  'isHosted': False,\n",
              "  'pillarId': 'pillar/opinion',\n",
              "  'pillarName': 'Opinion',\n",
              "  'sectionId': 'commentisfree',\n",
              "  'sectionName': 'Opinion',\n",
              "  'type': 'article',\n",
              "  'webPublicationDate': '2020-11-08T19:11:35Z',\n",
              "  'webTitle': 'The rotten state of American politics made Trump smell fresh | Nesrine Malik',\n",
              "  'webUrl': 'https://www.theguardian.com/commentisfree/2020/nov/08/american-politics-trump-broken-system'}]"
            ]
          },
          "metadata": {
            "tags": []
          },
          "execution_count": 47
        }
      ]
    },
    {
      "cell_type": "markdown",
      "metadata": {
        "id": "GfwLLxE2R7zU"
      },
      "source": [
        "## Así obtenemos las 10 noticias más relevantes de Hillary y Trump"
      ]
    },
    {
      "cell_type": "markdown",
      "metadata": {
        "id": "As_MAv5UP0le"
      },
      "source": [
        "Convirtiendo a un DataFrame:"
      ]
    },
    {
      "cell_type": "code",
      "metadata": {
        "colab": {
          "base_uri": "https://localhost:8080/",
          "height": 1000
        },
        "id": "PsGrDABzRBs3",
        "outputId": "ff25486a-5cbc-4691-ffac-35c993f9f96c"
      },
      "source": [
        "import pandas as pd \n",
        "normalized = json['response']['results']\n",
        "df = pd.DataFrame.from_dict(normalized)\n",
        "df"
      ],
      "execution_count": null,
      "outputs": [
        {
          "output_type": "execute_result",
          "data": {
            "text/html": [
              "<div>\n",
              "<style scoped>\n",
              "    .dataframe tbody tr th:only-of-type {\n",
              "        vertical-align: middle;\n",
              "    }\n",
              "\n",
              "    .dataframe tbody tr th {\n",
              "        vertical-align: top;\n",
              "    }\n",
              "\n",
              "    .dataframe thead th {\n",
              "        text-align: right;\n",
              "    }\n",
              "</style>\n",
              "<table border=\"1\" class=\"dataframe\">\n",
              "  <thead>\n",
              "    <tr style=\"text-align: right;\">\n",
              "      <th></th>\n",
              "      <th>id</th>\n",
              "      <th>type</th>\n",
              "      <th>sectionId</th>\n",
              "      <th>sectionName</th>\n",
              "      <th>webPublicationDate</th>\n",
              "      <th>webTitle</th>\n",
              "      <th>webUrl</th>\n",
              "      <th>apiUrl</th>\n",
              "      <th>isHosted</th>\n",
              "      <th>pillarId</th>\n",
              "      <th>pillarName</th>\n",
              "    </tr>\n",
              "  </thead>\n",
              "  <tbody>\n",
              "    <tr>\n",
              "      <th>0</th>\n",
              "      <td>books/2021/feb/23/hillary-clinton-to-publish-t...</td>\n",
              "      <td>article</td>\n",
              "      <td>books</td>\n",
              "      <td>Books</td>\n",
              "      <td>2021-02-23T13:12:12Z</td>\n",
              "      <td>Hillary Clinton to publish thriller set in aft...</td>\n",
              "      <td>https://www.theguardian.com/books/2021/feb/23/...</td>\n",
              "      <td>https://content.guardianapis.com/books/2021/fe...</td>\n",
              "      <td>False</td>\n",
              "      <td>pillar/arts</td>\n",
              "      <td>Arts</td>\n",
              "    </tr>\n",
              "    <tr>\n",
              "      <th>1</th>\n",
              "      <td>politics/2021/jun/16/keir-starmer-picks-stonge...</td>\n",
              "      <td>article</td>\n",
              "      <td>politics</td>\n",
              "      <td>Politics</td>\n",
              "      <td>2021-06-16T21:30:16Z</td>\n",
              "      <td>Keir Starmer picks ‘Stronger Together’ slogan ...</td>\n",
              "      <td>https://www.theguardian.com/politics/2021/jun/...</td>\n",
              "      <td>https://content.guardianapis.com/politics/2021...</td>\n",
              "      <td>False</td>\n",
              "      <td>pillar/news</td>\n",
              "      <td>News</td>\n",
              "    </tr>\n",
              "    <tr>\n",
              "      <th>2</th>\n",
              "      <td>us-news/live/2021/may/06/liz-cheney-republican...</td>\n",
              "      <td>liveblog</td>\n",
              "      <td>us-news</td>\n",
              "      <td>US news</td>\n",
              "      <td>2021-05-06T23:59:52Z</td>\n",
              "      <td>Florida ‘moving in wrong direction’ with votin...</td>\n",
              "      <td>https://www.theguardian.com/us-news/live/2021/...</td>\n",
              "      <td>https://content.guardianapis.com/us-news/live/...</td>\n",
              "      <td>False</td>\n",
              "      <td>pillar/news</td>\n",
              "      <td>News</td>\n",
              "    </tr>\n",
              "    <tr>\n",
              "      <th>3</th>\n",
              "      <td>us-news/2021/mar/07/lucky-review-how-biden-bea...</td>\n",
              "      <td>article</td>\n",
              "      <td>us-news</td>\n",
              "      <td>US news</td>\n",
              "      <td>2021-03-07T06:00:55Z</td>\n",
              "      <td>Lucky review: how Biden beat Trump – and doubt...</td>\n",
              "      <td>https://www.theguardian.com/us-news/2021/mar/0...</td>\n",
              "      <td>https://content.guardianapis.com/us-news/2021/...</td>\n",
              "      <td>False</td>\n",
              "      <td>pillar/news</td>\n",
              "      <td>News</td>\n",
              "    </tr>\n",
              "    <tr>\n",
              "      <th>4</th>\n",
              "      <td>books/2020/nov/28/best-politics-books-of-2020</td>\n",
              "      <td>article</td>\n",
              "      <td>books</td>\n",
              "      <td>Books</td>\n",
              "      <td>2020-11-28T09:00:07Z</td>\n",
              "      <td>Best politics books of 2020</td>\n",
              "      <td>https://www.theguardian.com/books/2020/nov/28/...</td>\n",
              "      <td>https://content.guardianapis.com/books/2020/no...</td>\n",
              "      <td>False</td>\n",
              "      <td>pillar/arts</td>\n",
              "      <td>Arts</td>\n",
              "    </tr>\n",
              "    <tr>\n",
              "      <th>5</th>\n",
              "      <td>stage/2020/oct/26/the-narcissist-christopher-s...</td>\n",
              "      <td>article</td>\n",
              "      <td>stage</td>\n",
              "      <td>Stage</td>\n",
              "      <td>2020-10-26T12:00:19Z</td>\n",
              "      <td>The strategist who could have put Hillary in p...</td>\n",
              "      <td>https://www.theguardian.com/stage/2020/oct/26/...</td>\n",
              "      <td>https://content.guardianapis.com/stage/2020/oc...</td>\n",
              "      <td>False</td>\n",
              "      <td>pillar/arts</td>\n",
              "      <td>Arts</td>\n",
              "    </tr>\n",
              "    <tr>\n",
              "      <th>6</th>\n",
              "      <td>us-news/2021/jun/08/trump-biden-democrats-hill...</td>\n",
              "      <td>article</td>\n",
              "      <td>us-news</td>\n",
              "      <td>US news</td>\n",
              "      <td>2021-06-08T11:43:04Z</td>\n",
              "      <td>Trump feared Democrats would replace Biden wit...</td>\n",
              "      <td>https://www.theguardian.com/us-news/2021/jun/0...</td>\n",
              "      <td>https://content.guardianapis.com/us-news/2021/...</td>\n",
              "      <td>False</td>\n",
              "      <td>pillar/news</td>\n",
              "      <td>News</td>\n",
              "    </tr>\n",
              "    <tr>\n",
              "      <th>7</th>\n",
              "      <td>us-news/2021/may/16/joe-biden-feels-political-...</td>\n",
              "      <td>article</td>\n",
              "      <td>us-news</td>\n",
              "      <td>US news</td>\n",
              "      <td>2021-05-16T16:36:38Z</td>\n",
              "      <td>Joe Biden feels political ground shift as Isr...</td>\n",
              "      <td>https://www.theguardian.com/us-news/2021/may/1...</td>\n",
              "      <td>https://content.guardianapis.com/us-news/2021/...</td>\n",
              "      <td>False</td>\n",
              "      <td>pillar/news</td>\n",
              "      <td>News</td>\n",
              "    </tr>\n",
              "    <tr>\n",
              "      <th>8</th>\n",
              "      <td>commentisfree/2021/feb/16/two-party-electoral-...</td>\n",
              "      <td>article</td>\n",
              "      <td>commentisfree</td>\n",
              "      <td>Opinion</td>\n",
              "      <td>2021-02-16T07:00:44Z</td>\n",
              "      <td>As events in the US have shown, two-party poli...</td>\n",
              "      <td>https://www.theguardian.com/commentisfree/2021...</td>\n",
              "      <td>https://content.guardianapis.com/commentisfree...</td>\n",
              "      <td>False</td>\n",
              "      <td>pillar/opinion</td>\n",
              "      <td>Opinion</td>\n",
              "    </tr>\n",
              "    <tr>\n",
              "      <th>9</th>\n",
              "      <td>commentisfree/2020/nov/08/american-politics-tr...</td>\n",
              "      <td>article</td>\n",
              "      <td>commentisfree</td>\n",
              "      <td>Opinion</td>\n",
              "      <td>2020-11-08T19:11:35Z</td>\n",
              "      <td>The rotten state of American politics made Tru...</td>\n",
              "      <td>https://www.theguardian.com/commentisfree/2020...</td>\n",
              "      <td>https://content.guardianapis.com/commentisfree...</td>\n",
              "      <td>False</td>\n",
              "      <td>pillar/opinion</td>\n",
              "      <td>Opinion</td>\n",
              "    </tr>\n",
              "  </tbody>\n",
              "</table>\n",
              "</div>"
            ],
            "text/plain": [
              "                                                  id  ... pillarName\n",
              "0  books/2021/feb/23/hillary-clinton-to-publish-t...  ...       Arts\n",
              "1  politics/2021/jun/16/keir-starmer-picks-stonge...  ...       News\n",
              "2  us-news/live/2021/may/06/liz-cheney-republican...  ...       News\n",
              "3  us-news/2021/mar/07/lucky-review-how-biden-bea...  ...       News\n",
              "4      books/2020/nov/28/best-politics-books-of-2020  ...       Arts\n",
              "5  stage/2020/oct/26/the-narcissist-christopher-s...  ...       Arts\n",
              "6  us-news/2021/jun/08/trump-biden-democrats-hill...  ...       News\n",
              "7  us-news/2021/may/16/joe-biden-feels-political-...  ...       News\n",
              "8  commentisfree/2021/feb/16/two-party-electoral-...  ...    Opinion\n",
              "9  commentisfree/2020/nov/08/american-politics-tr...  ...    Opinion\n",
              "\n",
              "[10 rows x 11 columns]"
            ]
          },
          "metadata": {
            "tags": []
          },
          "execution_count": 48
        }
      ]
    },
    {
      "cell_type": "code",
      "metadata": {
        "id": "j3HGP3uQQM56"
      },
      "source": [
        ""
      ],
      "execution_count": null,
      "outputs": []
    }
  ]
}